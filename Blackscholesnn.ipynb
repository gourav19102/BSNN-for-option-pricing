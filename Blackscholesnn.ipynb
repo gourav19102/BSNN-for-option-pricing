{
  "nbformat": 4,
  "nbformat_minor": 0,
  "metadata": {
    "colab": {
      "name": "Blackscholesnn.ipynb",
      "provenance": []
    },
    "kernelspec": {
      "name": "python3",
      "display_name": "Python 3"
    },
    "language_info": {
      "name": "python"
    },
    "accelerator": "GPU"
  },
  "cells": [
    {
      "cell_type": "markdown",
      "source": [
        "# **1.OPTION PRICE DATA GENERATION**"
      ],
      "metadata": {
        "id": "1K69i9xO450O"
      }
    },
    {
      "cell_type": "code",
      "source": [
        "import pandas as pd\n",
        "import numpy as np\n",
        "import scipy.stats as ss\n",
        "import matplotlib.pyplot as plt\n",
        "%matplotlib inline"
      ],
      "metadata": {
        "id": "Z6K9uop_0Bkc"
      },
      "execution_count": 1,
      "outputs": []
    },
    {
      "cell_type": "markdown",
      "source": [
        "# BLACK SCHOLES FORMULA FOR PRICING OPTION"
      ],
      "metadata": {
        "id": "AtReULre5CoV"
      }
    },
    {
      "cell_type": "code",
      "source": [
        "def BS_Call(S,K,r,T,v,d=0):\n",
        "    d1 = (np.log(float(S)/K)+((r-d)+v*v/2.)*T)/(v*np.sqrt(T))\n",
        "    d2 = d1-v*np.sqrt(T)\n",
        "    return S*np.exp(-d*T)*ss.norm.cdf(d1)-K*np.exp(-r*T)*ss.norm.cdf(d2)"
      ],
      "metadata": {
        "id": "UiVcUqsy0Bh3"
      },
      "execution_count": 2,
      "outputs": []
    },
    {
      "cell_type": "markdown",
      "source": [
        "CREATING RANGE OF OPTION PARAMETER : <br>\n",
        "\n",
        "\n",
        "1.   stock price<br>\n",
        "2.   strike price<br>\n",
        "3.   interset rate<br>\n",
        "4.   Time to maturity<br>\n",
        "5.   volatality\n",
        "\n",
        "\n",
        "\n"
      ],
      "metadata": {
        "id": "GkrfRP835Mby"
      }
    },
    {
      "cell_type": "code",
      "source": [
        "# Stock Price\n",
        "S = np.arange(10, 200, 2)\n",
        "\n",
        "# Strike Price\n",
        "# To avoid extreme prices - K  will be a multiple of the Stock Price (S) rather than a completely seperate RV\n",
        "K = np.random.random(len(S)) + 0.5\n",
        "\n",
        "# Interest Rate\n",
        "r = 0.05\n",
        "\n",
        "# Time\n",
        "T = np.arange(0.1, 1, 0.10)\n",
        "\n",
        "# Volatility\n",
        "V = np.arange(0.1, 0.6, 0.05)\n",
        "\n",
        "# Number of option prices = life begins at a million examples...\n",
        "no_of_options = len(S)*len(K)*len(T)*len(V)\n",
        "no_of_options"
      ],
      "metadata": {
        "colab": {
          "base_uri": "https://localhost:8080/"
        },
        "id": "wLbL9z1_0BfM",
        "outputId": "c2bb97df-5a0c-4f78-f7cf-208e37663aca"
      },
      "execution_count": 3,
      "outputs": [
        {
          "output_type": "execute_result",
          "data": {
            "text/plain": [
              "812250"
            ]
          },
          "metadata": {},
          "execution_count": 3
        }
      ]
    },
    {
      "cell_type": "code",
      "source": [
        "# Create numpy array to store option data\n",
        "prices = np.empty([no_of_options,5], dtype=float)"
      ],
      "metadata": {
        "id": "DEKDZnaV0Bc1"
      },
      "execution_count": 4,
      "outputs": []
    },
    {
      "cell_type": "markdown",
      "source": [
        "## **calculating option price for data created using black scholes methos we defined**"
      ],
      "metadata": {
        "id": "SG9WCzLD5muF"
      }
    },
    {
      "cell_type": "code",
      "source": [
        "%%time\n",
        "# Track time record (1-2 minutes)\n",
        "\n",
        "\n",
        "# Loop through parameters\n",
        "x = 0\n",
        "for s in S:\n",
        "    for k in K:\n",
        "        for t in T:\n",
        "            for v in V:\n",
        "                prices[x,:] = [s,s*k,t,v,BS_Call(s,s*k,r,t,v)]\n",
        "                x+=1"
      ],
      "metadata": {
        "colab": {
          "base_uri": "https://localhost:8080/"
        },
        "id": "dhqVT3xr0BaU",
        "outputId": "454dda9d-e724-410c-ac0a-28f168f170bd"
      },
      "execution_count": 5,
      "outputs": [
        {
          "output_type": "stream",
          "name": "stdout",
          "text": [
            "CPU times: user 2min 49s, sys: 12.3 s, total: 3min 1s\n",
            "Wall time: 2min 54s\n"
          ]
        }
      ]
    },
    {
      "cell_type": "code",
      "source": [
        "#Do not store constant interest rate value\n",
        "option_df = pd.DataFrame(index = range(no_of_options), columns = \n",
        "                         ['Stock', \n",
        "                          'Strike',\n",
        "                          'Time',\n",
        "                          'Volatility',\n",
        "                          'Call Price'], data = prices )"
      ],
      "metadata": {
        "id": "oCMpspJ90BXs"
      },
      "execution_count": 6,
      "outputs": []
    },
    {
      "cell_type": "markdown",
      "source": [
        "## SAVING THE DATA CREATED AS A PICKLE FILE FOR FURHTER USE"
      ],
      "metadata": {
        "id": "aYM94wro52qi"
      }
    },
    {
      "cell_type": "code",
      "source": [
        "option_df.to_pickle(\"option_data.pkl\")"
      ],
      "metadata": {
        "id": "AmUJQaut0BU-"
      },
      "execution_count": 7,
      "outputs": []
    },
    {
      "cell_type": "markdown",
      "source": [
        "Importing LIbraries"
      ],
      "metadata": {
        "id": "2wF5oJaM6HAH"
      }
    },
    {
      "cell_type": "code",
      "source": [
        "import pandas as pd\n",
        "import numpy as np\n",
        "import scipy.stats as ss\n",
        "import matplotlib.pyplot as plt\n",
        "%matplotlib inline\n",
        "\n",
        "import keras\n",
        "import tensorflow\n",
        "from keras.models import Sequential\n",
        "from keras.layers import Activation, Dense, Dropout, Flatten\n",
        "from keras import backend\n",
        "from keras.callbacks import EarlyStopping, ModelCheckpoint\n",
        "from sklearn.model_selection import train_test_split"
      ],
      "metadata": {
        "id": "AUrqLHFo0BSd"
      },
      "execution_count": 8,
      "outputs": []
    },
    {
      "cell_type": "code",
      "source": [
        "#Pandas DataFrame\n",
        "option_df = pd.read_pickle(\"option_data.pkl\")\n",
        "option_df.tail()"
      ],
      "metadata": {
        "colab": {
          "base_uri": "https://localhost:8080/",
          "height": 206
        },
        "id": "U2Jk2eSm0BP3",
        "outputId": "ca8643da-5fc2-48ed-d209-8177a1397b33"
      },
      "execution_count": 9,
      "outputs": [
        {
          "output_type": "execute_result",
          "data": {
            "text/plain": [
              "        Stock     Strike  Time  Volatility  Call Price\n",
              "812245  198.0  126.00733   0.9        0.35   79.036876\n",
              "812246  198.0  126.00733   0.9        0.40   80.119576\n",
              "812247  198.0  126.00733   0.9        0.45   81.457649\n",
              "812248  198.0  126.00733   0.9        0.50   83.007189\n",
              "812249  198.0  126.00733   0.9        0.55   84.728164"
            ],
            "text/html": [
              "\n",
              "  <div id=\"df-dda58bfe-133c-40a5-88f1-81f4f016f9d2\">\n",
              "    <div class=\"colab-df-container\">\n",
              "      <div>\n",
              "<style scoped>\n",
              "    .dataframe tbody tr th:only-of-type {\n",
              "        vertical-align: middle;\n",
              "    }\n",
              "\n",
              "    .dataframe tbody tr th {\n",
              "        vertical-align: top;\n",
              "    }\n",
              "\n",
              "    .dataframe thead th {\n",
              "        text-align: right;\n",
              "    }\n",
              "</style>\n",
              "<table border=\"1\" class=\"dataframe\">\n",
              "  <thead>\n",
              "    <tr style=\"text-align: right;\">\n",
              "      <th></th>\n",
              "      <th>Stock</th>\n",
              "      <th>Strike</th>\n",
              "      <th>Time</th>\n",
              "      <th>Volatility</th>\n",
              "      <th>Call Price</th>\n",
              "    </tr>\n",
              "  </thead>\n",
              "  <tbody>\n",
              "    <tr>\n",
              "      <th>812245</th>\n",
              "      <td>198.0</td>\n",
              "      <td>126.00733</td>\n",
              "      <td>0.9</td>\n",
              "      <td>0.35</td>\n",
              "      <td>79.036876</td>\n",
              "    </tr>\n",
              "    <tr>\n",
              "      <th>812246</th>\n",
              "      <td>198.0</td>\n",
              "      <td>126.00733</td>\n",
              "      <td>0.9</td>\n",
              "      <td>0.40</td>\n",
              "      <td>80.119576</td>\n",
              "    </tr>\n",
              "    <tr>\n",
              "      <th>812247</th>\n",
              "      <td>198.0</td>\n",
              "      <td>126.00733</td>\n",
              "      <td>0.9</td>\n",
              "      <td>0.45</td>\n",
              "      <td>81.457649</td>\n",
              "    </tr>\n",
              "    <tr>\n",
              "      <th>812248</th>\n",
              "      <td>198.0</td>\n",
              "      <td>126.00733</td>\n",
              "      <td>0.9</td>\n",
              "      <td>0.50</td>\n",
              "      <td>83.007189</td>\n",
              "    </tr>\n",
              "    <tr>\n",
              "      <th>812249</th>\n",
              "      <td>198.0</td>\n",
              "      <td>126.00733</td>\n",
              "      <td>0.9</td>\n",
              "      <td>0.55</td>\n",
              "      <td>84.728164</td>\n",
              "    </tr>\n",
              "  </tbody>\n",
              "</table>\n",
              "</div>\n",
              "      <button class=\"colab-df-convert\" onclick=\"convertToInteractive('df-dda58bfe-133c-40a5-88f1-81f4f016f9d2')\"\n",
              "              title=\"Convert this dataframe to an interactive table.\"\n",
              "              style=\"display:none;\">\n",
              "        \n",
              "  <svg xmlns=\"http://www.w3.org/2000/svg\" height=\"24px\"viewBox=\"0 0 24 24\"\n",
              "       width=\"24px\">\n",
              "    <path d=\"M0 0h24v24H0V0z\" fill=\"none\"/>\n",
              "    <path d=\"M18.56 5.44l.94 2.06.94-2.06 2.06-.94-2.06-.94-.94-2.06-.94 2.06-2.06.94zm-11 1L8.5 8.5l.94-2.06 2.06-.94-2.06-.94L8.5 2.5l-.94 2.06-2.06.94zm10 10l.94 2.06.94-2.06 2.06-.94-2.06-.94-.94-2.06-.94 2.06-2.06.94z\"/><path d=\"M17.41 7.96l-1.37-1.37c-.4-.4-.92-.59-1.43-.59-.52 0-1.04.2-1.43.59L10.3 9.45l-7.72 7.72c-.78.78-.78 2.05 0 2.83L4 21.41c.39.39.9.59 1.41.59.51 0 1.02-.2 1.41-.59l7.78-7.78 2.81-2.81c.8-.78.8-2.07 0-2.86zM5.41 20L4 18.59l7.72-7.72 1.47 1.35L5.41 20z\"/>\n",
              "  </svg>\n",
              "      </button>\n",
              "      \n",
              "  <style>\n",
              "    .colab-df-container {\n",
              "      display:flex;\n",
              "      flex-wrap:wrap;\n",
              "      gap: 12px;\n",
              "    }\n",
              "\n",
              "    .colab-df-convert {\n",
              "      background-color: #E8F0FE;\n",
              "      border: none;\n",
              "      border-radius: 50%;\n",
              "      cursor: pointer;\n",
              "      display: none;\n",
              "      fill: #1967D2;\n",
              "      height: 32px;\n",
              "      padding: 0 0 0 0;\n",
              "      width: 32px;\n",
              "    }\n",
              "\n",
              "    .colab-df-convert:hover {\n",
              "      background-color: #E2EBFA;\n",
              "      box-shadow: 0px 1px 2px rgba(60, 64, 67, 0.3), 0px 1px 3px 1px rgba(60, 64, 67, 0.15);\n",
              "      fill: #174EA6;\n",
              "    }\n",
              "\n",
              "    [theme=dark] .colab-df-convert {\n",
              "      background-color: #3B4455;\n",
              "      fill: #D2E3FC;\n",
              "    }\n",
              "\n",
              "    [theme=dark] .colab-df-convert:hover {\n",
              "      background-color: #434B5C;\n",
              "      box-shadow: 0px 1px 3px 1px rgba(0, 0, 0, 0.15);\n",
              "      filter: drop-shadow(0px 1px 2px rgba(0, 0, 0, 0.3));\n",
              "      fill: #FFFFFF;\n",
              "    }\n",
              "  </style>\n",
              "\n",
              "      <script>\n",
              "        const buttonEl =\n",
              "          document.querySelector('#df-dda58bfe-133c-40a5-88f1-81f4f016f9d2 button.colab-df-convert');\n",
              "        buttonEl.style.display =\n",
              "          google.colab.kernel.accessAllowed ? 'block' : 'none';\n",
              "\n",
              "        async function convertToInteractive(key) {\n",
              "          const element = document.querySelector('#df-dda58bfe-133c-40a5-88f1-81f4f016f9d2');\n",
              "          const dataTable =\n",
              "            await google.colab.kernel.invokeFunction('convertToInteractive',\n",
              "                                                     [key], {});\n",
              "          if (!dataTable) return;\n",
              "\n",
              "          const docLinkHtml = 'Like what you see? Visit the ' +\n",
              "            '<a target=\"_blank\" href=https://colab.research.google.com/notebooks/data_table.ipynb>data table notebook</a>'\n",
              "            + ' to learn more about interactive tables.';\n",
              "          element.innerHTML = '';\n",
              "          dataTable['output_type'] = 'display_data';\n",
              "          await google.colab.output.renderOutput(dataTable, element);\n",
              "          const docLink = document.createElement('div');\n",
              "          docLink.innerHTML = docLinkHtml;\n",
              "          element.appendChild(docLink);\n",
              "        }\n",
              "      </script>\n",
              "    </div>\n",
              "  </div>\n",
              "  "
            ]
          },
          "metadata": {},
          "execution_count": 9
        }
      ]
    },
    {
      "cell_type": "markdown",
      "source": [
        "# **Normalize Data Set**"
      ],
      "metadata": {
        "id": "oKWy6N286OzN"
      }
    },
    {
      "cell_type": "markdown",
      "source": [
        "The Black Scholes formula for a European call option is linearly homogenous with respect to the stock price . Therfore we can normalize the data by dividing the price of the stock and the price of the call option by the strike price."
      ],
      "metadata": {
        "id": "wdiNT8Cy6UhW"
      }
    },
    {
      "cell_type": "code",
      "source": [
        "option_df['Stock'] = option_df['Stock'].div(option_df.Strike)\n",
        "option_df['Call Price'] = option_df['Call Price'].div(option_df.Strike)\n",
        "option_df['Strike'] = 1\n",
        "\n",
        "## Write data to disk for future notebooks\n",
        "option_df.to_pickle(\"opt_data_z.pkl\")"
      ],
      "metadata": {
        "id": "nG3FXan60mDV"
      },
      "execution_count": 10,
      "outputs": []
    },
    {
      "cell_type": "code",
      "source": [
        "option_df.head(10)"
      ],
      "metadata": {
        "colab": {
          "base_uri": "https://localhost:8080/",
          "height": 363
        },
        "id": "iF4F7xrZ0mAn",
        "outputId": "59f6f1e8-9fd2-48c6-a73f-d592615d102b"
      },
      "execution_count": 11,
      "outputs": [
        {
          "output_type": "execute_result",
          "data": {
            "text/plain": [
              "      Stock  Strike  Time  Volatility  Call Price\n",
              "0  1.715331       1   0.1        0.10    0.720318\n",
              "1  1.715331       1   0.1        0.15    0.720318\n",
              "2  1.715331       1   0.1        0.20    0.720318\n",
              "3  1.715331       1   0.1        0.25    0.720318\n",
              "4  1.715331       1   0.1        0.30    0.720318\n",
              "5  1.715331       1   0.1        0.35    0.720318\n",
              "6  1.715331       1   0.1        0.40    0.720319\n",
              "7  1.715331       1   0.1        0.45    0.720321\n",
              "8  1.715331       1   0.1        0.50    0.720333\n",
              "9  1.715331       1   0.1        0.55    0.720372"
            ],
            "text/html": [
              "\n",
              "  <div id=\"df-aac17e41-a75f-4eff-8554-709e1c630f0d\">\n",
              "    <div class=\"colab-df-container\">\n",
              "      <div>\n",
              "<style scoped>\n",
              "    .dataframe tbody tr th:only-of-type {\n",
              "        vertical-align: middle;\n",
              "    }\n",
              "\n",
              "    .dataframe tbody tr th {\n",
              "        vertical-align: top;\n",
              "    }\n",
              "\n",
              "    .dataframe thead th {\n",
              "        text-align: right;\n",
              "    }\n",
              "</style>\n",
              "<table border=\"1\" class=\"dataframe\">\n",
              "  <thead>\n",
              "    <tr style=\"text-align: right;\">\n",
              "      <th></th>\n",
              "      <th>Stock</th>\n",
              "      <th>Strike</th>\n",
              "      <th>Time</th>\n",
              "      <th>Volatility</th>\n",
              "      <th>Call Price</th>\n",
              "    </tr>\n",
              "  </thead>\n",
              "  <tbody>\n",
              "    <tr>\n",
              "      <th>0</th>\n",
              "      <td>1.715331</td>\n",
              "      <td>1</td>\n",
              "      <td>0.1</td>\n",
              "      <td>0.10</td>\n",
              "      <td>0.720318</td>\n",
              "    </tr>\n",
              "    <tr>\n",
              "      <th>1</th>\n",
              "      <td>1.715331</td>\n",
              "      <td>1</td>\n",
              "      <td>0.1</td>\n",
              "      <td>0.15</td>\n",
              "      <td>0.720318</td>\n",
              "    </tr>\n",
              "    <tr>\n",
              "      <th>2</th>\n",
              "      <td>1.715331</td>\n",
              "      <td>1</td>\n",
              "      <td>0.1</td>\n",
              "      <td>0.20</td>\n",
              "      <td>0.720318</td>\n",
              "    </tr>\n",
              "    <tr>\n",
              "      <th>3</th>\n",
              "      <td>1.715331</td>\n",
              "      <td>1</td>\n",
              "      <td>0.1</td>\n",
              "      <td>0.25</td>\n",
              "      <td>0.720318</td>\n",
              "    </tr>\n",
              "    <tr>\n",
              "      <th>4</th>\n",
              "      <td>1.715331</td>\n",
              "      <td>1</td>\n",
              "      <td>0.1</td>\n",
              "      <td>0.30</td>\n",
              "      <td>0.720318</td>\n",
              "    </tr>\n",
              "    <tr>\n",
              "      <th>5</th>\n",
              "      <td>1.715331</td>\n",
              "      <td>1</td>\n",
              "      <td>0.1</td>\n",
              "      <td>0.35</td>\n",
              "      <td>0.720318</td>\n",
              "    </tr>\n",
              "    <tr>\n",
              "      <th>6</th>\n",
              "      <td>1.715331</td>\n",
              "      <td>1</td>\n",
              "      <td>0.1</td>\n",
              "      <td>0.40</td>\n",
              "      <td>0.720319</td>\n",
              "    </tr>\n",
              "    <tr>\n",
              "      <th>7</th>\n",
              "      <td>1.715331</td>\n",
              "      <td>1</td>\n",
              "      <td>0.1</td>\n",
              "      <td>0.45</td>\n",
              "      <td>0.720321</td>\n",
              "    </tr>\n",
              "    <tr>\n",
              "      <th>8</th>\n",
              "      <td>1.715331</td>\n",
              "      <td>1</td>\n",
              "      <td>0.1</td>\n",
              "      <td>0.50</td>\n",
              "      <td>0.720333</td>\n",
              "    </tr>\n",
              "    <tr>\n",
              "      <th>9</th>\n",
              "      <td>1.715331</td>\n",
              "      <td>1</td>\n",
              "      <td>0.1</td>\n",
              "      <td>0.55</td>\n",
              "      <td>0.720372</td>\n",
              "    </tr>\n",
              "  </tbody>\n",
              "</table>\n",
              "</div>\n",
              "      <button class=\"colab-df-convert\" onclick=\"convertToInteractive('df-aac17e41-a75f-4eff-8554-709e1c630f0d')\"\n",
              "              title=\"Convert this dataframe to an interactive table.\"\n",
              "              style=\"display:none;\">\n",
              "        \n",
              "  <svg xmlns=\"http://www.w3.org/2000/svg\" height=\"24px\"viewBox=\"0 0 24 24\"\n",
              "       width=\"24px\">\n",
              "    <path d=\"M0 0h24v24H0V0z\" fill=\"none\"/>\n",
              "    <path d=\"M18.56 5.44l.94 2.06.94-2.06 2.06-.94-2.06-.94-.94-2.06-.94 2.06-2.06.94zm-11 1L8.5 8.5l.94-2.06 2.06-.94-2.06-.94L8.5 2.5l-.94 2.06-2.06.94zm10 10l.94 2.06.94-2.06 2.06-.94-2.06-.94-.94-2.06-.94 2.06-2.06.94z\"/><path d=\"M17.41 7.96l-1.37-1.37c-.4-.4-.92-.59-1.43-.59-.52 0-1.04.2-1.43.59L10.3 9.45l-7.72 7.72c-.78.78-.78 2.05 0 2.83L4 21.41c.39.39.9.59 1.41.59.51 0 1.02-.2 1.41-.59l7.78-7.78 2.81-2.81c.8-.78.8-2.07 0-2.86zM5.41 20L4 18.59l7.72-7.72 1.47 1.35L5.41 20z\"/>\n",
              "  </svg>\n",
              "      </button>\n",
              "      \n",
              "  <style>\n",
              "    .colab-df-container {\n",
              "      display:flex;\n",
              "      flex-wrap:wrap;\n",
              "      gap: 12px;\n",
              "    }\n",
              "\n",
              "    .colab-df-convert {\n",
              "      background-color: #E8F0FE;\n",
              "      border: none;\n",
              "      border-radius: 50%;\n",
              "      cursor: pointer;\n",
              "      display: none;\n",
              "      fill: #1967D2;\n",
              "      height: 32px;\n",
              "      padding: 0 0 0 0;\n",
              "      width: 32px;\n",
              "    }\n",
              "\n",
              "    .colab-df-convert:hover {\n",
              "      background-color: #E2EBFA;\n",
              "      box-shadow: 0px 1px 2px rgba(60, 64, 67, 0.3), 0px 1px 3px 1px rgba(60, 64, 67, 0.15);\n",
              "      fill: #174EA6;\n",
              "    }\n",
              "\n",
              "    [theme=dark] .colab-df-convert {\n",
              "      background-color: #3B4455;\n",
              "      fill: #D2E3FC;\n",
              "    }\n",
              "\n",
              "    [theme=dark] .colab-df-convert:hover {\n",
              "      background-color: #434B5C;\n",
              "      box-shadow: 0px 1px 3px 1px rgba(0, 0, 0, 0.15);\n",
              "      filter: drop-shadow(0px 1px 2px rgba(0, 0, 0, 0.3));\n",
              "      fill: #FFFFFF;\n",
              "    }\n",
              "  </style>\n",
              "\n",
              "      <script>\n",
              "        const buttonEl =\n",
              "          document.querySelector('#df-aac17e41-a75f-4eff-8554-709e1c630f0d button.colab-df-convert');\n",
              "        buttonEl.style.display =\n",
              "          google.colab.kernel.accessAllowed ? 'block' : 'none';\n",
              "\n",
              "        async function convertToInteractive(key) {\n",
              "          const element = document.querySelector('#df-aac17e41-a75f-4eff-8554-709e1c630f0d');\n",
              "          const dataTable =\n",
              "            await google.colab.kernel.invokeFunction('convertToInteractive',\n",
              "                                                     [key], {});\n",
              "          if (!dataTable) return;\n",
              "\n",
              "          const docLinkHtml = 'Like what you see? Visit the ' +\n",
              "            '<a target=\"_blank\" href=https://colab.research.google.com/notebooks/data_table.ipynb>data table notebook</a>'\n",
              "            + ' to learn more about interactive tables.';\n",
              "          element.innerHTML = '';\n",
              "          dataTable['output_type'] = 'display_data';\n",
              "          await google.colab.output.renderOutput(dataTable, element);\n",
              "          const docLink = document.createElement('div');\n",
              "          docLink.innerHTML = docLinkHtml;\n",
              "          element.appendChild(docLink);\n",
              "        }\n",
              "      </script>\n",
              "    </div>\n",
              "  </div>\n",
              "  "
            ]
          },
          "metadata": {},
          "execution_count": 11
        }
      ]
    },
    {
      "cell_type": "code",
      "source": [
        "## Move data into numpy array\n",
        "prices = option_df.values"
      ],
      "metadata": {
        "id": "LibOq2Ds0l9s"
      },
      "execution_count": 12,
      "outputs": []
    },
    {
      "cell_type": "code",
      "source": [
        "# X values\n",
        "X = prices[:,:4]\n",
        "\n",
        "# Y values \n",
        "y = prices[:,4:5]\n",
        "\n",
        "# Use Sklearn library to randomly split data into training/testing set\n",
        "X_train, X_test, y_train, y_test = train_test_split(X, y, test_size=0.2, random_state=42)"
      ],
      "metadata": {
        "id": "up02vp-v0l6r"
      },
      "execution_count": 13,
      "outputs": []
    },
    {
      "cell_type": "code",
      "source": [
        "## Number/type of hyperparameters(i.e., nodes, activation function, dropout, layers) are explored in a different notebook\n",
        "## The following architecture is fairly generic and can be found in most tutorials on regression\n",
        "\n",
        "## Number of nodes in Neural Network\n",
        "nodes = 200\n",
        "\n",
        "# Create Model\n",
        "model = Sequential()\n",
        "\n",
        "# Layer 1\n",
        "model.add(Dense(nodes, input_shape=(4,))) \n",
        "model.add(Activation('relu'))\n",
        "model.add(Dropout(0.25))\n",
        "\n",
        "# Layer 2\n",
        "model.add(Dense(nodes)) \n",
        "model.add(Activation ('relu'))\n",
        "model.add(Dropout(0.25))\n",
        "\n",
        "# Layer 3\n",
        "model.add(Dense(nodes))\n",
        "model.add(Activation ('relu'))\n",
        "model.add(Dropout(0.25))\n",
        "\n",
        "# Layer 4 - Output Layer\n",
        "model.add(Dense(1))\n",
        "model.add(Activation('elu'))"
      ],
      "metadata": {
        "id": "6VQseZl50l34"
      },
      "execution_count": 14,
      "outputs": []
    },
    {
      "cell_type": "code",
      "source": [
        "## Different Optimizers are compared in companion notebook\n",
        "model.compile(loss='mse',\n",
        "        optimizer='rmsprop')"
      ],
      "metadata": {
        "id": "dbdl4Mzu0l07"
      },
      "execution_count": 15,
      "outputs": []
    },
    {
      "cell_type": "code",
      "source": [
        "\n",
        "model.summary()"
      ],
      "metadata": {
        "colab": {
          "base_uri": "https://localhost:8080/"
        },
        "id": "oRZEfMAM0lx7",
        "outputId": "3e4dfd46-f2b5-44de-be1a-384bc8a842d9"
      },
      "execution_count": 16,
      "outputs": [
        {
          "output_type": "stream",
          "name": "stdout",
          "text": [
            "Model: \"sequential\"\n",
            "_________________________________________________________________\n",
            " Layer (type)                Output Shape              Param #   \n",
            "=================================================================\n",
            " dense (Dense)               (None, 200)               1000      \n",
            "                                                                 \n",
            " activation (Activation)     (None, 200)               0         \n",
            "                                                                 \n",
            " dropout (Dropout)           (None, 200)               0         \n",
            "                                                                 \n",
            " dense_1 (Dense)             (None, 200)               40200     \n",
            "                                                                 \n",
            " activation_1 (Activation)   (None, 200)               0         \n",
            "                                                                 \n",
            " dropout_1 (Dropout)         (None, 200)               0         \n",
            "                                                                 \n",
            " dense_2 (Dense)             (None, 200)               40200     \n",
            "                                                                 \n",
            " activation_2 (Activation)   (None, 200)               0         \n",
            "                                                                 \n",
            " dropout_2 (Dropout)         (None, 200)               0         \n",
            "                                                                 \n",
            " dense_3 (Dense)             (None, 1)                 201       \n",
            "                                                                 \n",
            " activation_3 (Activation)   (None, 1)                 0         \n",
            "                                                                 \n",
            "=================================================================\n",
            "Total params: 81,601\n",
            "Trainable params: 81,601\n",
            "Non-trainable params: 0\n",
            "_________________________________________________________________\n"
          ]
        }
      ]
    },
    {
      "cell_type": "code",
      "source": [
        "callbacks_list = [EarlyStopping(monitor = 'val_loss', patience = 3)]"
      ],
      "metadata": {
        "id": "8iVxGPr50lvB"
      },
      "execution_count": 21,
      "outputs": []
    },
    {
      "cell_type": "code",
      "source": [
        "\n",
        "model.fit(X_train, y_train, epochs = 10, batch_size = 128, validation_split = 0.1, verbose = 2, callbacks = callbacks_list)"
      ],
      "metadata": {
        "colab": {
          "base_uri": "https://localhost:8080/"
        },
        "id": "a0zacJnI0lsB",
        "outputId": "51dea6ad-56df-44e0-f6b9-140b87467e2d"
      },
      "execution_count": 22,
      "outputs": [
        {
          "output_type": "stream",
          "name": "stdout",
          "text": [
            "Epoch 1/10\n",
            "4569/4569 - 14s - loss: 6.5659e-04 - val_loss: 7.0752e-04 - 14s/epoch - 3ms/step\n",
            "Epoch 2/10\n",
            "4569/4569 - 13s - loss: 6.1294e-04 - val_loss: 3.4791e-04 - 13s/epoch - 3ms/step\n",
            "Epoch 3/10\n",
            "4569/4569 - 12s - loss: 5.8556e-04 - val_loss: 5.0186e-04 - 12s/epoch - 3ms/step\n",
            "Epoch 4/10\n",
            "4569/4569 - 12s - loss: 5.7449e-04 - val_loss: 4.4503e-04 - 12s/epoch - 3ms/step\n",
            "Epoch 5/10\n",
            "4569/4569 - 18s - loss: 5.5991e-04 - val_loss: 5.4303e-04 - 18s/epoch - 4ms/step\n"
          ]
        },
        {
          "output_type": "execute_result",
          "data": {
            "text/plain": [
              "<keras.callbacks.History at 0x7fa895f042d0>"
            ]
          },
          "metadata": {},
          "execution_count": 22
        }
      ]
    },
    {
      "cell_type": "code",
      "source": [
        "predictions = model.predict(X_test)"
      ],
      "metadata": {
        "id": "PIbVxgjP0lpE"
      },
      "execution_count": 19,
      "outputs": []
    },
    {
      "cell_type": "markdown",
      "source": [
        "# Model evaluation wrt actual values"
      ],
      "metadata": {
        "id": "qftubXL36fM4"
      }
    },
    {
      "cell_type": "code",
      "source": [
        "plt.figure(figsize = (15,10))\n",
        "plt.scatter(y_test, predictions)\n",
        "plt.xlabel(\"Actual Price\")\n",
        "plt.ylabel(\"Predicted Price\")\n",
        "plt.plot([0,1], [0,1], 'r')\n",
        "plt.grid(True)"
      ],
      "metadata": {
        "colab": {
          "base_uri": "https://localhost:8080/",
          "height": 606
        },
        "id": "gQ9TXdnd0lmC",
        "outputId": "f032b115-a014-4592-d4d4-c9ac697c2688"
      },
      "execution_count": 20,
      "outputs": [
        {
          "output_type": "display_data",
          "data": {
            "text/plain": [
              "<Figure size 1080x720 with 1 Axes>"
            ],
            "image/png": "[encoded data removed]"
          },
          "metadata": {
            "needs_background": "light"
          }
        }
      ]
    },
    {
      "cell_type": "markdown",
      "source": [
        "we somewhat achieved in training a neural network  that produces results similarly to the Black Scholes model."
      ],
      "metadata": {
        "id": "Zk5Wk1Gb6mGt"
      }
    },
    {
      "cell_type": "code",
      "source": [
        ""
      ],
      "metadata": {
        "id": "Zh3l6CeT0ljC"
      },
      "execution_count": 20,
      "outputs": []
    },
    {
      "cell_type": "code",
      "source": [
        ""
      ],
      "metadata": {
        "id": "Q3IpLeJU0lf0"
      },
      "execution_count": 20,
      "outputs": []
    },
    {
      "cell_type": "code",
      "source": [
        ""
      ],
      "metadata": {
        "id": "2BOZDpew0lJg"
      },
      "execution_count": 20,
      "outputs": []
    },
    {
      "cell_type": "code",
      "execution_count": 20,
      "metadata": {
        "id": "NUPI8jJCz-Zy"
      },
      "outputs": [],
      "source": [
        ""
      ]
    }
  ]
}